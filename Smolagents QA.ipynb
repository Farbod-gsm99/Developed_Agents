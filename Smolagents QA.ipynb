{
 "cells": [
  {
   "cell_type": "code",
   "execution_count": 7,
   "id": "4e78ddd6-224c-4595-b9b5-175ce87ec5e1",
   "metadata": {},
   "outputs": [
    {
     "name": "stdout",
     "output_type": "stream",
     "text": [
      "Requirement already satisfied: smolagents[litellm] in c:\\users\\farbod\\appdata\\local\\programs\\python\\python313\\lib\\site-packages (1.15.0)\n",
      "Requirement already satisfied: huggingface-hub>=0.30.0 in c:\\users\\farbod\\appdata\\local\\programs\\python\\python313\\lib\\site-packages (from smolagents[litellm]) (0.31.2)\n",
      "Requirement already satisfied: requests>=2.32.3 in c:\\users\\farbod\\appdata\\local\\programs\\python\\python313\\lib\\site-packages (from smolagents[litellm]) (2.32.3)\n",
      "Requirement already satisfied: rich>=13.9.4 in c:\\users\\farbod\\appdata\\local\\programs\\python\\python313\\lib\\site-packages (from smolagents[litellm]) (14.0.0)\n",
      "Requirement already satisfied: jinja2>=3.1.4 in c:\\users\\farbod\\appdata\\local\\programs\\python\\python313\\lib\\site-packages (from smolagents[litellm]) (3.1.6)\n",
      "Requirement already satisfied: pillow>=10.0.1 in c:\\users\\farbod\\appdata\\local\\programs\\python\\python313\\lib\\site-packages (from smolagents[litellm]) (11.2.1)\n",
      "Requirement already satisfied: python-dotenv in c:\\users\\farbod\\appdata\\local\\programs\\python\\python313\\lib\\site-packages (from smolagents[litellm]) (1.1.0)\n",
      "Requirement already satisfied: litellm>=1.60.2 in c:\\users\\farbod\\appdata\\local\\programs\\python\\python313\\lib\\site-packages (from smolagents[litellm]) (1.69.2)\n",
      "Requirement already satisfied: filelock in c:\\users\\farbod\\appdata\\local\\programs\\python\\python313\\lib\\site-packages (from huggingface-hub>=0.30.0->smolagents[litellm]) (3.18.0)\n",
      "Requirement already satisfied: fsspec>=2023.5.0 in c:\\users\\farbod\\appdata\\local\\programs\\python\\python313\\lib\\site-packages (from huggingface-hub>=0.30.0->smolagents[litellm]) (2025.3.2)\n",
      "Requirement already satisfied: packaging>=20.9 in c:\\users\\farbod\\appdata\\local\\programs\\python\\python313\\lib\\site-packages (from huggingface-hub>=0.30.0->smolagents[litellm]) (24.2)\n",
      "Requirement already satisfied: pyyaml>=5.1 in c:\\users\\farbod\\appdata\\local\\programs\\python\\python313\\lib\\site-packages (from huggingface-hub>=0.30.0->smolagents[litellm]) (6.0.2)\n",
      "Requirement already satisfied: tqdm>=4.42.1 in c:\\users\\farbod\\appdata\\local\\programs\\python\\python313\\lib\\site-packages (from huggingface-hub>=0.30.0->smolagents[litellm]) (4.67.1)\n",
      "Requirement already satisfied: typing-extensions>=3.7.4.3 in c:\\users\\farbod\\appdata\\local\\programs\\python\\python313\\lib\\site-packages (from huggingface-hub>=0.30.0->smolagents[litellm]) (4.13.2)\n",
      "Requirement already satisfied: MarkupSafe>=2.0 in c:\\users\\farbod\\appdata\\local\\programs\\python\\python313\\lib\\site-packages (from jinja2>=3.1.4->smolagents[litellm]) (3.0.2)\n",
      "Requirement already satisfied: aiohttp in c:\\users\\farbod\\appdata\\local\\programs\\python\\python313\\lib\\site-packages (from litellm>=1.60.2->smolagents[litellm]) (3.11.18)\n",
      "Requirement already satisfied: click in c:\\users\\farbod\\appdata\\local\\programs\\python\\python313\\lib\\site-packages (from litellm>=1.60.2->smolagents[litellm]) (8.2.0)\n",
      "Requirement already satisfied: httpx>=0.23.0 in c:\\users\\farbod\\appdata\\local\\programs\\python\\python313\\lib\\site-packages (from litellm>=1.60.2->smolagents[litellm]) (0.28.1)\n",
      "Requirement already satisfied: importlib-metadata>=6.8.0 in c:\\users\\farbod\\appdata\\local\\programs\\python\\python313\\lib\\site-packages (from litellm>=1.60.2->smolagents[litellm]) (8.7.0)\n",
      "Requirement already satisfied: jsonschema<5.0.0,>=4.22.0 in c:\\users\\farbod\\appdata\\local\\programs\\python\\python313\\lib\\site-packages (from litellm>=1.60.2->smolagents[litellm]) (4.23.0)\n",
      "Requirement already satisfied: openai<1.76.0,>=1.68.2 in c:\\users\\farbod\\appdata\\local\\programs\\python\\python313\\lib\\site-packages (from litellm>=1.60.2->smolagents[litellm]) (1.75.0)\n",
      "Requirement already satisfied: pydantic<3.0.0,>=2.0.0 in c:\\users\\farbod\\appdata\\local\\programs\\python\\python313\\lib\\site-packages (from litellm>=1.60.2->smolagents[litellm]) (2.11.4)\n",
      "Requirement already satisfied: tiktoken>=0.7.0 in c:\\users\\farbod\\appdata\\local\\programs\\python\\python313\\lib\\site-packages (from litellm>=1.60.2->smolagents[litellm]) (0.9.0)\n",
      "Requirement already satisfied: tokenizers in c:\\users\\farbod\\appdata\\local\\programs\\python\\python313\\lib\\site-packages (from litellm>=1.60.2->smolagents[litellm]) (0.21.1)\n",
      "Requirement already satisfied: charset-normalizer<4,>=2 in c:\\users\\farbod\\appdata\\local\\programs\\python\\python313\\lib\\site-packages (from requests>=2.32.3->smolagents[litellm]) (3.4.2)\n",
      "Requirement already satisfied: idna<4,>=2.5 in c:\\users\\farbod\\appdata\\local\\programs\\python\\python313\\lib\\site-packages (from requests>=2.32.3->smolagents[litellm]) (3.10)\n",
      "Requirement already satisfied: urllib3<3,>=1.21.1 in c:\\users\\farbod\\appdata\\local\\programs\\python\\python313\\lib\\site-packages (from requests>=2.32.3->smolagents[litellm]) (2.4.0)\n",
      "Requirement already satisfied: certifi>=2017.4.17 in c:\\users\\farbod\\appdata\\local\\programs\\python\\python313\\lib\\site-packages (from requests>=2.32.3->smolagents[litellm]) (2025.4.26)\n",
      "Requirement already satisfied: markdown-it-py>=2.2.0 in c:\\users\\farbod\\appdata\\local\\programs\\python\\python313\\lib\\site-packages (from rich>=13.9.4->smolagents[litellm]) (3.0.0)\n",
      "Requirement already satisfied: pygments<3.0.0,>=2.13.0 in c:\\users\\farbod\\appdata\\local\\programs\\python\\python313\\lib\\site-packages (from rich>=13.9.4->smolagents[litellm]) (2.19.1)\n",
      "Requirement already satisfied: anyio in c:\\users\\farbod\\appdata\\local\\programs\\python\\python313\\lib\\site-packages (from httpx>=0.23.0->litellm>=1.60.2->smolagents[litellm]) (4.9.0)\n",
      "Requirement already satisfied: httpcore==1.* in c:\\users\\farbod\\appdata\\local\\programs\\python\\python313\\lib\\site-packages (from httpx>=0.23.0->litellm>=1.60.2->smolagents[litellm]) (1.0.9)\n",
      "Requirement already satisfied: h11>=0.16 in c:\\users\\farbod\\appdata\\local\\programs\\python\\python313\\lib\\site-packages (from httpcore==1.*->httpx>=0.23.0->litellm>=1.60.2->smolagents[litellm]) (0.16.0)\n",
      "Requirement already satisfied: zipp>=3.20 in c:\\users\\farbod\\appdata\\local\\programs\\python\\python313\\lib\\site-packages (from importlib-metadata>=6.8.0->litellm>=1.60.2->smolagents[litellm]) (3.21.0)\n",
      "Requirement already satisfied: attrs>=22.2.0 in c:\\users\\farbod\\appdata\\local\\programs\\python\\python313\\lib\\site-packages (from jsonschema<5.0.0,>=4.22.0->litellm>=1.60.2->smolagents[litellm]) (25.3.0)\n",
      "Requirement already satisfied: jsonschema-specifications>=2023.03.6 in c:\\users\\farbod\\appdata\\local\\programs\\python\\python313\\lib\\site-packages (from jsonschema<5.0.0,>=4.22.0->litellm>=1.60.2->smolagents[litellm]) (2025.4.1)\n",
      "Requirement already satisfied: referencing>=0.28.4 in c:\\users\\farbod\\appdata\\local\\programs\\python\\python313\\lib\\site-packages (from jsonschema<5.0.0,>=4.22.0->litellm>=1.60.2->smolagents[litellm]) (0.36.2)\n",
      "Requirement already satisfied: rpds-py>=0.7.1 in c:\\users\\farbod\\appdata\\local\\programs\\python\\python313\\lib\\site-packages (from jsonschema<5.0.0,>=4.22.0->litellm>=1.60.2->smolagents[litellm]) (0.24.0)\n",
      "Requirement already satisfied: mdurl~=0.1 in c:\\users\\farbod\\appdata\\local\\programs\\python\\python313\\lib\\site-packages (from markdown-it-py>=2.2.0->rich>=13.9.4->smolagents[litellm]) (0.1.2)\n",
      "Requirement already satisfied: distro<2,>=1.7.0 in c:\\users\\farbod\\appdata\\local\\programs\\python\\python313\\lib\\site-packages (from openai<1.76.0,>=1.68.2->litellm>=1.60.2->smolagents[litellm]) (1.9.0)\n",
      "Requirement already satisfied: jiter<1,>=0.4.0 in c:\\users\\farbod\\appdata\\local\\programs\\python\\python313\\lib\\site-packages (from openai<1.76.0,>=1.68.2->litellm>=1.60.2->smolagents[litellm]) (0.9.0)\n",
      "Requirement already satisfied: sniffio in c:\\users\\farbod\\appdata\\local\\programs\\python\\python313\\lib\\site-packages (from openai<1.76.0,>=1.68.2->litellm>=1.60.2->smolagents[litellm]) (1.3.1)\n",
      "Requirement already satisfied: annotated-types>=0.6.0 in c:\\users\\farbod\\appdata\\local\\programs\\python\\python313\\lib\\site-packages (from pydantic<3.0.0,>=2.0.0->litellm>=1.60.2->smolagents[litellm]) (0.7.0)\n",
      "Requirement already satisfied: pydantic-core==2.33.2 in c:\\users\\farbod\\appdata\\local\\programs\\python\\python313\\lib\\site-packages (from pydantic<3.0.0,>=2.0.0->litellm>=1.60.2->smolagents[litellm]) (2.33.2)\n",
      "Requirement already satisfied: typing-inspection>=0.4.0 in c:\\users\\farbod\\appdata\\local\\programs\\python\\python313\\lib\\site-packages (from pydantic<3.0.0,>=2.0.0->litellm>=1.60.2->smolagents[litellm]) (0.4.0)\n",
      "Requirement already satisfied: regex>=2022.1.18 in c:\\users\\farbod\\appdata\\local\\programs\\python\\python313\\lib\\site-packages (from tiktoken>=0.7.0->litellm>=1.60.2->smolagents[litellm]) (2024.11.6)\n",
      "Requirement already satisfied: colorama in c:\\users\\farbod\\appdata\\local\\programs\\python\\python313\\lib\\site-packages (from tqdm>=4.42.1->huggingface-hub>=0.30.0->smolagents[litellm]) (0.4.6)\n",
      "Requirement already satisfied: aiohappyeyeballs>=2.3.0 in c:\\users\\farbod\\appdata\\local\\programs\\python\\python313\\lib\\site-packages (from aiohttp->litellm>=1.60.2->smolagents[litellm]) (2.6.1)\n",
      "Requirement already satisfied: aiosignal>=1.1.2 in c:\\users\\farbod\\appdata\\local\\programs\\python\\python313\\lib\\site-packages (from aiohttp->litellm>=1.60.2->smolagents[litellm]) (1.3.2)\n",
      "Requirement already satisfied: frozenlist>=1.1.1 in c:\\users\\farbod\\appdata\\local\\programs\\python\\python313\\lib\\site-packages (from aiohttp->litellm>=1.60.2->smolagents[litellm]) (1.6.0)\n",
      "Requirement already satisfied: multidict<7.0,>=4.5 in c:\\users\\farbod\\appdata\\local\\programs\\python\\python313\\lib\\site-packages (from aiohttp->litellm>=1.60.2->smolagents[litellm]) (6.4.3)\n",
      "Requirement already satisfied: propcache>=0.2.0 in c:\\users\\farbod\\appdata\\local\\programs\\python\\python313\\lib\\site-packages (from aiohttp->litellm>=1.60.2->smolagents[litellm]) (0.3.1)\n",
      "Requirement already satisfied: yarl<2.0,>=1.17.0 in c:\\users\\farbod\\appdata\\local\\programs\\python\\python313\\lib\\site-packages (from aiohttp->litellm>=1.60.2->smolagents[litellm]) (1.20.0)\n"
     ]
    },
    {
     "name": "stderr",
     "output_type": "stream",
     "text": [
      "\n",
      "[notice] A new release of pip is available: 25.0.1 -> 25.1.1\n",
      "[notice] To update, run: python.exe -m pip install --upgrade pip\n"
     ]
    }
   ],
   "source": [
    "!pip install smolagents[litellm]"
   ]
  },
  {
   "cell_type": "code",
   "execution_count": 14,
   "id": "6d450c2d-ff72-401d-9d72-c085691e5d32",
   "metadata": {},
   "outputs": [
    {
     "data": {
      "text/html": [
       "<pre style=\"white-space:pre;overflow-x:auto;line-height:normal;font-family:Menlo,'DejaVu Sans Mono',consolas,'Courier New',monospace\"><span style=\"color: #d4b702; text-decoration-color: #d4b702\">╭──────────────────────────────────────────────────── </span><span style=\"color: #d4b702; text-decoration-color: #d4b702; font-weight: bold\">New run</span><span style=\"color: #d4b702; text-decoration-color: #d4b702\"> ────────────────────────────────────────────────────╮</span>\n",
       "<span style=\"color: #d4b702; text-decoration-color: #d4b702\">│</span>                                                                                                                 <span style=\"color: #d4b702; text-decoration-color: #d4b702\">│</span>\n",
       "<span style=\"color: #d4b702; text-decoration-color: #d4b702\">│</span> <span style=\"font-weight: bold\">45/10=</span>                                                                                                          <span style=\"color: #d4b702; text-decoration-color: #d4b702\">│</span>\n",
       "<span style=\"color: #d4b702; text-decoration-color: #d4b702\">│</span>                                                                                                                 <span style=\"color: #d4b702; text-decoration-color: #d4b702\">│</span>\n",
       "<span style=\"color: #d4b702; text-decoration-color: #d4b702\">╰─ LiteLLMModel - ollama_chat/llama3.1:latest ────────────────────────────────────────────────────────────────────╯</span>\n",
       "</pre>\n"
      ],
      "text/plain": [
       "\u001b[38;2;212;183;2m╭─\u001b[0m\u001b[38;2;212;183;2m───────────────────────────────────────────────────\u001b[0m\u001b[38;2;212;183;2m \u001b[0m\u001b[1;38;2;212;183;2mNew run\u001b[0m\u001b[38;2;212;183;2m \u001b[0m\u001b[38;2;212;183;2m───────────────────────────────────────────────────\u001b[0m\u001b[38;2;212;183;2m─╮\u001b[0m\n",
       "\u001b[38;2;212;183;2m│\u001b[0m                                                                                                                 \u001b[38;2;212;183;2m│\u001b[0m\n",
       "\u001b[38;2;212;183;2m│\u001b[0m \u001b[1m45/10=\u001b[0m                                                                                                          \u001b[38;2;212;183;2m│\u001b[0m\n",
       "\u001b[38;2;212;183;2m│\u001b[0m                                                                                                                 \u001b[38;2;212;183;2m│\u001b[0m\n",
       "\u001b[38;2;212;183;2m╰─\u001b[0m\u001b[38;2;212;183;2m LiteLLMModel - ollama_chat/llama3.1:latest \u001b[0m\u001b[38;2;212;183;2m───────────────────────────────────────────────────────────────────\u001b[0m\u001b[38;2;212;183;2m─╯\u001b[0m\n"
      ]
     },
     "metadata": {},
     "output_type": "display_data"
    },
    {
     "data": {
      "text/html": [
       "<pre style=\"white-space:pre;overflow-x:auto;line-height:normal;font-family:Menlo,'DejaVu Sans Mono',consolas,'Courier New',monospace\"><span style=\"color: #d4b702; text-decoration-color: #d4b702\">━━━━━━━━━━━━━━━━━━━━━━━━━━━━━━━━━━━━━━━━━━━━━━━━━━━━━ </span><span style=\"font-weight: bold\">Step </span><span style=\"color: #008080; text-decoration-color: #008080; font-weight: bold\">1</span><span style=\"color: #d4b702; text-decoration-color: #d4b702\"> ━━━━━━━━━━━━━━━━━━━━━━━━━━━━━━━━━━━━━━━━━━━━━━━━━━━━━━</span>\n",
       "</pre>\n"
      ],
      "text/plain": [
       "\u001b[38;2;212;183;2m━━━━━━━━━━━━━━━━━━━━━━━━━━━━━━━━━━━━━━━━━━━━━━━━━━━━━ \u001b[0m\u001b[1mStep \u001b[0m\u001b[1;36m1\u001b[0m\u001b[38;2;212;183;2m ━━━━━━━━━━━━━━━━━━━━━━━━━━━━━━━━━━━━━━━━━━━━━━━━━━━━━━\u001b[0m\n"
      ]
     },
     "metadata": {},
     "output_type": "display_data"
    },
    {
     "data": {
      "text/html": [
       "<pre style=\"white-space:pre;overflow-x:auto;line-height:normal;font-family:Menlo,'DejaVu Sans Mono',consolas,'Courier New',monospace\"> ─ <span style=\"font-weight: bold\">Executing parsed code:</span> ──────────────────────────────────────────────────────────────────────────────────────── \n",
       "  <span style=\"color: #f8f8f2; text-decoration-color: #f8f8f2; background-color: #272822\">result </span><span style=\"color: #ff4689; text-decoration-color: #ff4689; background-color: #272822\">=</span><span style=\"color: #f8f8f2; text-decoration-color: #f8f8f2; background-color: #272822\"> </span><span style=\"color: #ae81ff; text-decoration-color: #ae81ff; background-color: #272822\">45</span><span style=\"color: #f8f8f2; text-decoration-color: #f8f8f2; background-color: #272822\"> </span><span style=\"color: #ff4689; text-decoration-color: #ff4689; background-color: #272822\">/</span><span style=\"color: #f8f8f2; text-decoration-color: #f8f8f2; background-color: #272822\"> </span><span style=\"color: #ae81ff; text-decoration-color: #ae81ff; background-color: #272822\">10</span><span style=\"background-color: #272822\">                                                                                               </span>  \n",
       "  <span style=\"color: #f8f8f2; text-decoration-color: #f8f8f2; background-color: #272822\">final_answer(result)</span><span style=\"background-color: #272822\">                                                                                           </span>  \n",
       " ───────────────────────────────────────────────────────────────────────────────────────────────────────────────── \n",
       "</pre>\n"
      ],
      "text/plain": [
       " ─ \u001b[1mExecuting parsed code:\u001b[0m ──────────────────────────────────────────────────────────────────────────────────────── \n",
       "  \u001b[38;2;248;248;242;48;2;39;40;34mresult\u001b[0m\u001b[38;2;248;248;242;48;2;39;40;34m \u001b[0m\u001b[38;2;255;70;137;48;2;39;40;34m=\u001b[0m\u001b[38;2;248;248;242;48;2;39;40;34m \u001b[0m\u001b[38;2;174;129;255;48;2;39;40;34m45\u001b[0m\u001b[38;2;248;248;242;48;2;39;40;34m \u001b[0m\u001b[38;2;255;70;137;48;2;39;40;34m/\u001b[0m\u001b[38;2;248;248;242;48;2;39;40;34m \u001b[0m\u001b[38;2;174;129;255;48;2;39;40;34m10\u001b[0m\u001b[48;2;39;40;34m                                                                                               \u001b[0m  \n",
       "  \u001b[38;2;248;248;242;48;2;39;40;34mfinal_answer\u001b[0m\u001b[38;2;248;248;242;48;2;39;40;34m(\u001b[0m\u001b[38;2;248;248;242;48;2;39;40;34mresult\u001b[0m\u001b[38;2;248;248;242;48;2;39;40;34m)\u001b[0m\u001b[48;2;39;40;34m                                                                                           \u001b[0m  \n",
       " ───────────────────────────────────────────────────────────────────────────────────────────────────────────────── \n"
      ]
     },
     "metadata": {},
     "output_type": "display_data"
    },
    {
     "data": {
      "text/html": [
       "<pre style=\"white-space:pre;overflow-x:auto;line-height:normal;font-family:Menlo,'DejaVu Sans Mono',consolas,'Courier New',monospace\"><span style=\"color: #d4b702; text-decoration-color: #d4b702; font-weight: bold\">Out - Final answer: 4.5</span>\n",
       "</pre>\n"
      ],
      "text/plain": [
       "\u001b[1;38;2;212;183;2mOut - Final answer: 4.5\u001b[0m\n"
      ]
     },
     "metadata": {},
     "output_type": "display_data"
    },
    {
     "data": {
      "text/html": [
       "<pre style=\"white-space:pre;overflow-x:auto;line-height:normal;font-family:Menlo,'DejaVu Sans Mono',consolas,'Courier New',monospace\"><span style=\"color: #7f7f7f; text-decoration-color: #7f7f7f\">[Step 1: Duration 1.48 seconds| Input tokens: 2,004 | Output tokens: 49]</span>\n",
       "</pre>\n"
      ],
      "text/plain": [
       "\u001b[2m[Step 1: Duration 1.48 seconds| Input tokens: 2,004 | Output tokens: 49]\u001b[0m\n"
      ]
     },
     "metadata": {},
     "output_type": "display_data"
    },
    {
     "data": {
      "text/plain": [
       "4.5"
      ]
     },
     "execution_count": 14,
     "metadata": {},
     "output_type": "execute_result"
    }
   ],
   "source": [
    "from smolagents import CodeAgent, DuckDuckGoSearchTool, LiteLLMModel\n",
    "\n",
    "model = LiteLLMModel(\n",
    "    model_id=\"ollama_chat/llama3.1:latest\",\n",
    "    api_base=\"http://localhost:11434\",\n",
    ")\n",
    "\n",
    "agent = CodeAgent(\n",
    "    model = model,\n",
    "    tools = [DuckDuckGoSearchTool()],\n",
    "    # max_steps = 10\n",
    ")\n",
    "\n",
    "agent.run('45/10=')"
   ]
  },
  {
   "cell_type": "code",
   "execution_count": null,
   "id": "0c56fcf1-5327-4768-a677-bca964e110fd",
   "metadata": {},
   "outputs": [],
   "source": []
  }
 ],
 "metadata": {
  "kernelspec": {
   "display_name": "Python 3 (ipykernel)",
   "language": "python",
   "name": "python3"
  },
  "language_info": {
   "codemirror_mode": {
    "name": "ipython",
    "version": 3
   },
   "file_extension": ".py",
   "mimetype": "text/x-python",
   "name": "python",
   "nbconvert_exporter": "python",
   "pygments_lexer": "ipython3",
   "version": "3.13.3"
  }
 },
 "nbformat": 4,
 "nbformat_minor": 5
}
